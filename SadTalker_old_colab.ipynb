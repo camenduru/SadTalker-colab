{
  "cells": [
    {
      "cell_type": "markdown",
      "metadata": {
        "id": "view-in-github"
      },
      "source": [
        "[![Open In Colab](https://colab.research.google.com/assets/colab-badge.svg)](https://colab.research.google.com/github/camenduru/SadTalker-colab/blob/main/SadTalker_old_colab.ipynb)"
      ]
    },
    {
      "cell_type": "code",
      "execution_count": null,
      "metadata": {
        "id": "VjYy0F2gZIPR"
      },
      "outputs": [],
      "source": [
        "%cd /content\n",
        "!git clone -b dev https://github.com/camenduru/SadTalker-hf\n",
        "%cd /content/SadTalker-hf\n",
        "!pip install -q face_alignment resampy pydub kornia yacs basicsr facexlib gradio gfpgan safetensors\n",
        "\n",
        "!apt -y install -qq aria2\n",
        "!aria2c --console-log-level=error -c -x 16 -s 16 -k 1M https://huggingface.co/camenduru/SadTalker/resolve/main/auido2exp_00300-model.pth -d /content/SadTalker-hf/checkpoints -o auido2exp_00300-model.pth\n",
        "!aria2c --console-log-level=error -c -x 16 -s 16 -k 1M https://huggingface.co/camenduru/SadTalker/resolve/main/auido2pose_00140-model.pth -d /content/SadTalker-hf/checkpoints -o auido2pose_00140-model.pth\n",
        "!aria2c --console-log-level=error -c -x 16 -s 16 -k 1M https://huggingface.co/camenduru/SadTalker/resolve/main/epoch_20.pth -d /content/SadTalker-hf/checkpoints -o epoch_20.pth\n",
        "!aria2c --console-log-level=error -c -x 16 -s 16 -k 1M https://huggingface.co/camenduru/SadTalker/resolve/main/facevid2vid_00189-model.pth.tar -d /content/SadTalker-hf/checkpoints -o facevid2vid_00189-model.pth.tar\n",
        "!aria2c --console-log-level=error -c -x 16 -s 16 -k 1M https://huggingface.co/camenduru/SadTalker/resolve/main/mapping_00229-model.pth.tar -d /content/SadTalker-hf/checkpoints -o mapping_00229-model.pth.tar\n",
        "!aria2c --console-log-level=error -c -x 16 -s 16 -k 1M https://huggingface.co/camenduru/SadTalker/resolve/main/shape_predictor_68_face_landmarks.dat -d /content/SadTalker-hf/checkpoints -o shape_predictor_68_face_landmarks.dat\n",
        "!aria2c --console-log-level=error -c -x 16 -s 16 -k 1M https://huggingface.co/camenduru/SadTalker/resolve/main/wav2lip.pth -d /content/SadTalker-hf/checkpoints -o wav2lip.pth\n",
        "!aria2c --console-log-level=error -c -x 16 -s 16 -k 1M https://huggingface.co/camenduru/SadTalker/resolve/main/hub/checkpoints/2DFAN4-cd938726ad.zip -d /content/SadTalker-hf/checkpoints/hub/checkpoints -o 2DFAN4-cd938726ad.zip\n",
        "!aria2c --console-log-level=error -c -x 16 -s 16 -k 1M https://huggingface.co/camenduru/SadTalker/resolve/main/hub/checkpoints/s3fd-619a316812.pth -d /content/SadTalker-hf/checkpoints/hub/checkpoints -o s3fd-619a316812.pth\n",
        "!aria2c --console-log-level=error -c -x 16 -s 16 -k 1M https://huggingface.co/camenduru/SadTalker/resolve/main/BFM_Fitting/01_MorphableModel.mat -d /content/SadTalker-hf/checkpoints/BFM_Fitting -o 01_MorphableModel.mat\n",
        "!aria2c --console-log-level=error -c -x 16 -s 16 -k 1M https://huggingface.co/camenduru/SadTalker/resolve/main/BFM_Fitting/BFM09_model_info.mat -d /content/SadTalker-hf/checkpoints/BFM_Fitting -o BFM09_model_info.mat\n",
        "!aria2c --console-log-level=error -c -x 16 -s 16 -k 1M https://huggingface.co/camenduru/SadTalker/resolve/main/BFM_Fitting/BFM_exp_idx.mat -d /content/SadTalker-hf/checkpoints/BFM_Fitting -o BFM_exp_idx.mat\n",
        "!aria2c --console-log-level=error -c -x 16 -s 16 -k 1M https://huggingface.co/camenduru/SadTalker/resolve/main/BFM_Fitting/BFM_front_idx.mat -d /content/SadTalker-hf/checkpoints/BFM_Fitting -o BFM_front_idx.mat\n",
        "!aria2c --console-log-level=error -c -x 16 -s 16 -k 1M https://huggingface.co/camenduru/SadTalker/resolve/main/BFM_Fitting/Exp_Pca.bin -d /content/SadTalker-hf/checkpoints/BFM_Fitting -o Exp_Pca.bin\n",
        "!aria2c --console-log-level=error -c -x 16 -s 16 -k 1M https://huggingface.co/camenduru/SadTalker/resolve/main/BFM_Fitting/facemodel_info.mat -d /content/SadTalker-hf/checkpoints/BFM_Fitting -o facemodel_info.mat\n",
        "!aria2c --console-log-level=error -c -x 16 -s 16 -k 1M https://huggingface.co/camenduru/SadTalker/resolve/main/BFM_Fitting/select_vertex_id.mat -d /content/SadTalker-hf/checkpoints/BFM_Fitting -o select_vertex_id.mat\n",
        "!aria2c --console-log-level=error -c -x 16 -s 16 -k 1M https://huggingface.co/camenduru/SadTalker/resolve/main/BFM_Fitting/similarity_Lm3D_all.mat -d /content/SadTalker-hf/checkpoints/BFM_Fitting -o similarity_Lm3D_all.mat\n",
        "!aria2c --console-log-level=error -c -x 16 -s 16 -k 1M https://huggingface.co/camenduru/SadTalker/raw/main/BFM_Fitting/std_exp.txt -d /content/SadTalker-hf/checkpoints/BFM_Fitting -o std_exp.txt\n",
        "\n",
        "!python app.py"
      ]
    }
  ],
  "metadata": {
    "accelerator": "GPU",
    "colab": {
      "gpuType": "T4",
      "provenance": []
    },
    "kernelspec": {
      "display_name": "Python 3",
      "name": "python3"
    },
    "language_info": {
      "name": "python"
    }
  },
  "nbformat": 4,
  "nbformat_minor": 0
}
